{
 "cells": [
  {
   "cell_type": "code",
   "execution_count": 6,
   "metadata": {},
   "outputs": [
    {
     "name": "stdout",
     "output_type": "stream",
     "text": [
      "     Customer_ID                                       Product_Name    Sales  \\\n",
      "0              2                                           Avery 49      5.9   \n",
      "1              3     SANFORD Liquid Accent™ Tank-Style Highlighters    13.01   \n",
      "2              3                                         Xerox 1968    49.92   \n",
      "3              3           Acme® Preferred Stainless Steel Scissors    41.64   \n",
      "4              3                                                V70  1446.67   \n",
      "...          ...                                                ...      ...   \n",
      "9421        3402      Jet-Pak Recycled Peel 'N' Seal Padded Mailers   447.87   \n",
      "9422        3402       Eldon Spacemaker® Box, Quick-Snap Lid, Clear    13.23   \n",
      "9423        3402  Chromcraft Bull-Nose Wood Oval Conference Tabl...  2215.93   \n",
      "9424        3403  Tenex 46\" x 60\" Computer Anti-Static Chairmat,...    506.5   \n",
      "9425        3403                      Staples #10 Colored Envelopes   172.48   \n",
      "\n",
      "     Order_ID  \n",
      "0       88525  \n",
      "1       88522  \n",
      "2       88523  \n",
      "3       88523  \n",
      "4       88523  \n",
      "...       ...  \n",
      "9421    87532  \n",
      "9422    87532  \n",
      "9423    87533  \n",
      "9424    87530  \n",
      "9425    87533  \n",
      "\n",
      "[9426 rows x 4 columns]\n"
     ]
    }
   ],
   "source": [
    "# import library\n",
    "import pandas as pd\n",
    "import xml.etree.ElementTree as et\n",
    "\n",
    "# create function\n",
    "def transform_xml(xml_doc):\n",
    "    attr = xml_doc.attrib\n",
    "    for xml in xml_doc.iter('Transaction'):\n",
    "        dict = attr.copy()\n",
    "        dict.update(xml.attrib)\n",
    "        \n",
    "        yield dict\n",
    "        \n",
    "# transform data\n",
    "etree = et.parse('transactions.xml')\n",
    "eroot = etree.getroot()\n",
    "trans = transform_xml(eroot)\n",
    "\n",
    "# create DataFrame\n",
    "df = pd.DataFrame(trans)\n",
    "\n",
    "# view DataFrame\n",
    "print(df)\n"
   ]
  },
  {
   "cell_type": "code",
   "execution_count": 7,
   "metadata": {},
   "outputs": [],
   "source": [
    "# import library\n",
    "import pandas as pd\n",
    "import xml.etree.ElementTree as et"
   ]
  },
  {
   "cell_type": "code",
   "execution_count": 8,
   "metadata": {},
   "outputs": [],
   "source": [
    "# create function\n",
    "def transform_xml(xml_doc):\n",
    "    attr = xml_doc.attrib\n",
    "    for xml in xml_doc.iter('Transaction'):\n",
    "        dict = attr.copy()\n",
    "        dict.update(xml.attrib)\n",
    "        \n",
    "        yield dict"
   ]
  },
  {
   "cell_type": "code",
   "execution_count": 9,
   "metadata": {},
   "outputs": [],
   "source": [
    "# transform data\n",
    "etree = et.parse('transactions.xml')\n",
    "eroot = etree.getroot()\n",
    "trans = transform_xml(eroot)"
   ]
  },
  {
   "cell_type": "code",
   "execution_count": 10,
   "metadata": {},
   "outputs": [],
   "source": [
    "# create DataFrame\n",
    "df = pd.DataFrame(trans)"
   ]
  },
  {
   "cell_type": "code",
   "execution_count": 11,
   "metadata": {},
   "outputs": [
    {
     "name": "stdout",
     "output_type": "stream",
     "text": [
      "     Customer_ID                                       Product_Name    Sales  \\\n",
      "0              2                                           Avery 49      5.9   \n",
      "1              3     SANFORD Liquid Accent™ Tank-Style Highlighters    13.01   \n",
      "2              3                                         Xerox 1968    49.92   \n",
      "3              3           Acme® Preferred Stainless Steel Scissors    41.64   \n",
      "4              3                                                V70  1446.67   \n",
      "...          ...                                                ...      ...   \n",
      "9421        3402      Jet-Pak Recycled Peel 'N' Seal Padded Mailers   447.87   \n",
      "9422        3402       Eldon Spacemaker® Box, Quick-Snap Lid, Clear    13.23   \n",
      "9423        3402  Chromcraft Bull-Nose Wood Oval Conference Tabl...  2215.93   \n",
      "9424        3403  Tenex 46\" x 60\" Computer Anti-Static Chairmat,...    506.5   \n",
      "9425        3403                      Staples #10 Colored Envelopes   172.48   \n",
      "\n",
      "     Order_ID  \n",
      "0       88525  \n",
      "1       88522  \n",
      "2       88523  \n",
      "3       88523  \n",
      "4       88523  \n",
      "...       ...  \n",
      "9421    87532  \n",
      "9422    87532  \n",
      "9423    87533  \n",
      "9424    87530  \n",
      "9425    87533  \n",
      "\n",
      "[9426 rows x 4 columns]\n"
     ]
    }
   ],
   "source": [
    "# view DataFrame\n",
    "print(df)"
   ]
  },
  {
   "cell_type": "code",
   "execution_count": 12,
   "metadata": {},
   "outputs": [
    {
     "data": {
      "text/plain": [
       "(9426, 4)"
      ]
     },
     "execution_count": 12,
     "metadata": {},
     "output_type": "execute_result"
    }
   ],
   "source": [
    "# checking shape of data\n",
    "df.shape"
   ]
  },
  {
   "attachments": {},
   "cell_type": "markdown",
   "metadata": {},
   "source": [
    "##### What is the total sales for order 10080"
   ]
  },
  {
   "cell_type": "code",
   "execution_count": 14,
   "metadata": {},
   "outputs": [
    {
     "data": {
      "text/html": [
       "<div>\n",
       "<style scoped>\n",
       "    .dataframe tbody tr th:only-of-type {\n",
       "        vertical-align: middle;\n",
       "    }\n",
       "\n",
       "    .dataframe tbody tr th {\n",
       "        vertical-align: top;\n",
       "    }\n",
       "\n",
       "    .dataframe thead th {\n",
       "        text-align: right;\n",
       "    }\n",
       "</style>\n",
       "<table border=\"1\" class=\"dataframe\">\n",
       "  <thead>\n",
       "    <tr style=\"text-align: right;\">\n",
       "      <th></th>\n",
       "      <th>Customer_ID</th>\n",
       "      <th>Product_Name</th>\n",
       "      <th>Sales</th>\n",
       "      <th>Order_ID</th>\n",
       "    </tr>\n",
       "  </thead>\n",
       "  <tbody>\n",
       "    <tr>\n",
       "      <th>3746</th>\n",
       "      <td>1413</td>\n",
       "      <td>Fellowes 17-key keypad for PS/2 interface</td>\n",
       "      <td>637.04</td>\n",
       "      <td>10080</td>\n",
       "    </tr>\n",
       "  </tbody>\n",
       "</table>\n",
       "</div>"
      ],
      "text/plain": [
       "     Customer_ID                               Product_Name   Sales Order_ID\n",
       "3746        1413  Fellowes 17-key keypad for PS/2 interface  637.04    10080"
      ]
     },
     "execution_count": 14,
     "metadata": {},
     "output_type": "execute_result"
    }
   ],
   "source": [
    "# What is the total sales for order 10080\n",
    "df[df['Order_ID']=='10080']"
   ]
  }
 ],
 "metadata": {
  "kernelspec": {
   "display_name": "Python 3",
   "language": "python",
   "name": "python3"
  },
  "language_info": {
   "codemirror_mode": {
    "name": "ipython",
    "version": 3
   },
   "file_extension": ".py",
   "mimetype": "text/x-python",
   "name": "python",
   "nbconvert_exporter": "python",
   "pygments_lexer": "ipython3",
   "version": "3.9.10"
  },
  "orig_nbformat": 4
 },
 "nbformat": 4,
 "nbformat_minor": 2
}

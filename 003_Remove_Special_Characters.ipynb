{
 "cells": [
  {
   "cell_type": "code",
   "execution_count": 6,
   "metadata": {},
   "outputs": [],
   "source": [
    "# special characters\n",
    "special_characters = '''!()-[]{};:'\"\\,<>./?@#$%^&*_'''\n",
    "myString = \"$#Welcome.*t,-%o{EPYTHON}:/$LAB\"\n",
    "newString = \"\"\n",
    "emptyString = \"\""
   ]
  },
  {
   "cell_type": "code",
   "execution_count": 7,
   "metadata": {},
   "outputs": [
    {
     "name": "stdout",
     "output_type": "stream",
     "text": [
      "String with special characters:  $#Welcome.*t,-%o{EPYTHON}:/$LAB\n",
      "new String:  WelcometoEPYTHONLAB\n"
     ]
    }
   ],
   "source": [
    "# Code using for loop\n",
    "for x in myString:\n",
    "    if x not in special_characters:\n",
    "        newString = newString + x\n",
    "print(\"String with special characters: \", myString)\n",
    "print(\"new String: \", newString)"
   ]
  },
  {
   "cell_type": "code",
   "execution_count": 8,
   "metadata": {},
   "outputs": [],
   "source": [
    "import re"
   ]
  },
  {
   "cell_type": "code",
   "execution_count": 10,
   "metadata": {},
   "outputs": [
    {
     "name": "stdout",
     "output_type": "stream",
     "text": [
      "WelcometoEPYTHONLAB\n"
     ]
    }
   ],
   "source": [
    "# Code using re\n",
    "newString2 = re.sub(r'[^\\w\\s]', emptyString, myString)\n",
    "print(newString2)"
   ]
  }
 ],
 "metadata": {
  "kernelspec": {
   "display_name": "Python 3",
   "language": "python",
   "name": "python3"
  },
  "language_info": {
   "codemirror_mode": {
    "name": "ipython",
    "version": 3
   },
   "file_extension": ".py",
   "mimetype": "text/x-python",
   "name": "python",
   "nbconvert_exporter": "python",
   "pygments_lexer": "ipython3",
   "version": "3.9.10"
  },
  "orig_nbformat": 4
 },
 "nbformat": 4,
 "nbformat_minor": 2
}
